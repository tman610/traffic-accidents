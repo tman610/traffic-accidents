{
 "cells": [
  {
   "cell_type": "code",
   "execution_count": 1,
   "metadata": {},
   "outputs": [],
   "source": [
    "import findspark\n",
    "findspark.init('/home/ubuntu/spark-2.1.1-bin-hadoop2.7')\n",
    "import pyspark\n",
    "from pyspark.sql import SparkSession\n",
    "spark = SparkSession.builder.appName('car-accidents').getOrCreate()"
   ]
  },
  {
   "cell_type": "code",
   "execution_count": 2,
   "metadata": {},
   "outputs": [],
   "source": [
    "dfAccidents1 = spark.read.csv('Datasets/Accidents0514-part1.csv', inferSchema=True, header=True)\n",
    "dfAccidents2 = spark.read.csv('Datasets/Accidents0514-part2.csv', inferSchema=True, header=True)\n",
    "dfAccidents3 = spark.read.csv('Datasets/Accidents0514-part3.csv', inferSchema=True, header=True)\n",
    "\n",
    "dfVehicles1 = spark.read.csv('Datasets/Vehicles0514-part1.csv', inferSchema=True, header=True)\n",
    "dfVehicles2 = spark.read.csv('Datasets/Vehicles0514-part2.csv', inferSchema=True, header=True)\n",
    "\n",
    "\n",
    "dfAccidents = dfAccidents1.union(dfAccidents2)\n",
    "dfAccidents = dfAccidents.union(dfAccidents3)\n",
    "dfVehicles = dfVehicles1.union(dfVehicles2)\n",
    "dfCasualties = spark.read.csv('Datasets/Casualties0514.csv', inferSchema=True, header=True)\n",
    "\n",
    "del dfAccidents1\n",
    "del dfAccidents2\n",
    "del dfAccidents3\n",
    "del dfVehicles1\n",
    "del dfVehicles2"
   ]
  },
  {
   "cell_type": "code",
   "execution_count": 3,
   "metadata": {},
   "outputs": [
    {
     "name": "stdout",
     "output_type": "stream",
     "text": [
      "1640597\n",
      "3004425\n",
      "2216720\n"
     ]
    }
   ],
   "source": [
    "print(dfAccidents.count())\n",
    "print(dfVehicles.count())\n",
    "print(dfCasualties.count())"
   ]
  },
  {
   "cell_type": "code",
   "execution_count": 4,
   "metadata": {},
   "outputs": [
    {
     "name": "stdout",
     "output_type": "stream",
     "text": [
      "+--------------+---------------------+----------------------+---------+--------+------------+-----------------+------------------+--------------------+----+-----------+----+--------------------------+-------------------------+--------------+---------------+---------+-----------+---------------+----------------+--------------+---------------+---------------------------------+---------------------------------------+----------------+------------------+-----------------------+--------------------------+-------------------+-------------------+-------------------------------------------+-------------------------+\n",
      "|Accident_Index|Location_Easting_OSGR|Location_Northing_OSGR|Longitude|Latitude|Police_Force|Accident_Severity|Number_of_Vehicles|Number_of_Casualties|Date|Day_of_Week|Time|Local_Authority_(District)|Local_Authority_(Highway)|1st_Road_Class|1st_Road_Number|Road_Type|Speed_limit|Junction_Detail|Junction_Control|2nd_Road_Class|2nd_Road_Number|Pedestrian_Crossing-Human_Control|Pedestrian_Crossing-Physical_Facilities|Light_Conditions|Weather_Conditions|Road_Surface_Conditions|Special_Conditions_at_Site|Carriageway_Hazards|Urban_or_Rural_Area|Did_Police_Officer_Attend_Scene_of_Accident|LSOA_of_Accident_Location|\n",
      "+--------------+---------------------+----------------------+---------+--------+------------+-----------------+------------------+--------------------+----+-----------+----+--------------------------+-------------------------+--------------+---------------+---------+-----------+---------------+----------------+--------------+---------------+---------------------------------+---------------------------------------+----------------+------------------+-----------------------+--------------------------+-------------------+-------------------+-------------------------------------------+-------------------------+\n",
      "|             0|                  111|                   111|      111|     111|           0|                0|                 0|                   0|   0|          0| 133|                         0|                        0|             0|              0|        0|          0|              0|               0|             0|              0|                                0|                                      0|               0|                 0|                      0|                         0|                  0|                  0|                                          0|                   120574|\n",
      "+--------------+---------------------+----------------------+---------+--------+------------+-----------------+------------------+--------------------+----+-----------+----+--------------------------+-------------------------+--------------+---------------+---------+-----------+---------------+----------------+--------------+---------------+---------------------------------+---------------------------------------+----------------+------------------+-----------------------+--------------------------+-------------------+-------------------+-------------------------------------------+-------------------------+\n",
      "\n"
     ]
    }
   ],
   "source": [
    "from pyspark.sql.functions import isnan, when, count, col\n",
    "\n",
    "missingCounts = dfAccidents.select([count(when(isnan(c) | col(c).isNull(), c)).alias(c) for c in dfAccidents.columns])\n",
    "missingCounts.show()"
   ]
  },
  {
   "cell_type": "code",
   "execution_count": 5,
   "metadata": {},
   "outputs": [
    {
     "name": "stdout",
     "output_type": "stream",
     "text": [
      "                                                  0\n",
      "Accident_Index                                    0\n",
      "Location_Easting_OSGR                           111\n",
      "Location_Northing_OSGR                          111\n",
      "Longitude                                       111\n",
      "Latitude                                        111\n",
      "Police_Force                                      0\n",
      "Accident_Severity                                 0\n",
      "Number_of_Vehicles                                0\n",
      "Number_of_Casualties                              0\n",
      "Date                                              0\n",
      "Day_of_Week                                       0\n",
      "Time                                            133\n",
      "Local_Authority_(District)                        0\n",
      "Local_Authority_(Highway)                         0\n",
      "1st_Road_Class                                    0\n",
      "1st_Road_Number                                   0\n",
      "Road_Type                                         0\n",
      "Speed_limit                                       0\n",
      "Junction_Detail                                   0\n",
      "Junction_Control                                  0\n",
      "2nd_Road_Class                                    0\n",
      "2nd_Road_Number                                   0\n",
      "Pedestrian_Crossing-Human_Control                 0\n",
      "Pedestrian_Crossing-Physical_Facilities           0\n",
      "Light_Conditions                                  0\n",
      "Weather_Conditions                                0\n",
      "Road_Surface_Conditions                           0\n",
      "Special_Conditions_at_Site                        0\n",
      "Carriageway_Hazards                               0\n",
      "Urban_or_Rural_Area                               0\n",
      "Did_Police_Officer_Attend_Scene_of_Accident       0\n",
      "LSOA_of_Accident_Location                    120574\n"
     ]
    }
   ],
   "source": [
    "missingCountsPD = missingCounts.toPandas()\n",
    "print(missingCountsPD.T)\n"
   ]
  },
  {
   "cell_type": "code",
   "execution_count": 6,
   "metadata": {},
   "outputs": [
    {
     "name": "stdout",
     "output_type": "stream",
     "text": [
      "+-----------+---------+----------------+------------------+-----------------------+--------------------+\n",
      "|Speed_limit|Road_type|Light_Conditions|Weather_Conditions|Road_Surface_Conditions|Number_of_Casualties|\n",
      "+-----------+---------+----------------+------------------+-----------------------+--------------------+\n",
      "|         30|        6|               1|                 2|                      2|                   1|\n",
      "|         30|        3|               4|                 1|                      1|                   1|\n",
      "|         30|        6|               4|                 1|                      1|                   1|\n",
      "|         30|        6|               1|                 1|                      1|                   1|\n",
      "|         30|        6|               7|                 1|                      2|                   1|\n",
      "|         30|        6|               1|                 2|                      2|                   1|\n",
      "|         30|        6|               4|                 1|                      1|                   1|\n",
      "|         30|        3|               1|                 1|                      1|                   2|\n",
      "|         30|        6|               4|                 1|                      1|                   2|\n",
      "|         30|        6|               1|                 1|                      1|                   5|\n",
      "|         30|        6|               4|                 1|                      1|                   1|\n",
      "|         30|        6|               4|                 1|                      2|                   1|\n",
      "|         30|        2|               1|                 2|                      2|                   1|\n",
      "|         30|        2|               4|                 2|                      2|                   1|\n",
      "|         30|        3|               1|                 1|                      1|                   2|\n",
      "|         30|        6|               1|                 1|                      1|                   1|\n",
      "|         30|        6|               4|                 1|                      1|                   1|\n",
      "|         30|        6|               1|                 1|                      1|                   1|\n",
      "|         30|        6|               4|                 1|                      1|                   1|\n",
      "|         30|        6|               4|                 1|                      1|                   1|\n",
      "+-----------+---------+----------------+------------------+-----------------------+--------------------+\n",
      "only showing top 20 rows\n",
      "\n"
     ]
    }
   ],
   "source": [
    "#Select our data\n",
    "\n",
    "dfSubset = dfAccidents.select(\"Speed_limit\",\"Road_type\", \"Light_Conditions\", \"Weather_Conditions\", \"Road_Surface_Conditions\", \"Number_of_Casualties\")\n",
    "dfSubset.show()"
   ]
  },
  {
   "cell_type": "code",
   "execution_count": 7,
   "metadata": {},
   "outputs": [],
   "source": [
    "#remove rows with missing rows\n",
    "\n",
    "dfRemoveMissing = dfAccidents.na.drop()\n"
   ]
  },
  {
   "cell_type": "code",
   "execution_count": 8,
   "metadata": {},
   "outputs": [
    {
     "name": "stdout",
     "output_type": "stream",
     "text": [
      "1640597\n",
      "1519998\n",
      "120599\n",
      "                                             0\n",
      "Accident_Index                               0\n",
      "Location_Easting_OSGR                        0\n",
      "Location_Northing_OSGR                       0\n",
      "Longitude                                    0\n",
      "Latitude                                     0\n",
      "Police_Force                                 0\n",
      "Accident_Severity                            0\n",
      "Number_of_Vehicles                           0\n",
      "Number_of_Casualties                         0\n",
      "Date                                         0\n",
      "Day_of_Week                                  0\n",
      "Time                                         0\n",
      "Local_Authority_(District)                   0\n",
      "Local_Authority_(Highway)                    0\n",
      "1st_Road_Class                               0\n",
      "1st_Road_Number                              0\n",
      "Road_Type                                    0\n",
      "Speed_limit                                  0\n",
      "Junction_Detail                              0\n",
      "Junction_Control                             0\n",
      "2nd_Road_Class                               0\n",
      "2nd_Road_Number                              0\n",
      "Pedestrian_Crossing-Human_Control            0\n",
      "Pedestrian_Crossing-Physical_Facilities      0\n",
      "Light_Conditions                             0\n",
      "Weather_Conditions                           0\n",
      "Road_Surface_Conditions                      0\n",
      "Special_Conditions_at_Site                   0\n",
      "Carriageway_Hazards                          0\n",
      "Urban_or_Rural_Area                          0\n",
      "Did_Police_Officer_Attend_Scene_of_Accident  0\n",
      "LSOA_of_Accident_Location                    0\n"
     ]
    }
   ],
   "source": [
    "originalCount = dfAccidents.count()\n",
    "newCount = dfRemoveMissing.count()\n",
    "\n",
    "print(originalCount)\n",
    "print(newCount)\n",
    "print(originalCount - newCount)\n",
    "\n",
    "#Print missing values\n",
    "missingCounts = dfRemoveMissing.select([count(when(isnan(c) | col(c).isNull(), c)).alias(c) for c in dfRemoveMissing.columns])\n",
    "missingCountsPD = missingCounts.toPandas()\n",
    "print(missingCountsPD.T)"
   ]
  },
  {
   "cell_type": "code",
   "execution_count": 9,
   "metadata": {},
   "outputs": [],
   "source": [
    "del missingCounts, missingCountsPD, dfRemoveMissing\n"
   ]
  },
  {
   "cell_type": "code",
   "execution_count": 10,
   "metadata": {},
   "outputs": [
    {
     "name": "stdout",
     "output_type": "stream",
     "text": [
      "['Accident_Index', 'Vehicle_Reference', 'Casualty_Reference', 'Casualty_Class', 'Sex_of_Casualty', 'Age_of_Casualty', 'Age_Band_of_Casualty', 'Casualty_Severity', 'Pedestrian_Location', 'Pedestrian_Movement', 'Car_Passenger', 'Bus_or_Coach_Passenger', 'Pedestrian_Road_Maintenance_Worker', 'Casualty_Type', 'Casualty_Home_Area_Type', 'Location_Easting_OSGR', 'Location_Northing_OSGR', 'Longitude', 'Latitude', 'Police_Force', 'Accident_Severity', 'Number_of_Vehicles', 'Number_of_Casualties', 'Date', 'Day_of_Week', 'Time', 'Local_Authority_(District)', 'Local_Authority_(Highway)', '1st_Road_Class', '1st_Road_Number', 'Road_Type', 'Speed_limit', 'Junction_Detail', 'Junction_Control', '2nd_Road_Class', '2nd_Road_Number', 'Pedestrian_Crossing-Human_Control', 'Pedestrian_Crossing-Physical_Facilities', 'Light_Conditions', 'Weather_Conditions', 'Road_Surface_Conditions', 'Special_Conditions_at_Site', 'Carriageway_Hazards', 'Urban_or_Rural_Area', 'Did_Police_Officer_Attend_Scene_of_Accident', 'LSOA_of_Accident_Location']\n",
      "\n",
      "accidents record count : 1519998\n",
      "casualties record count : 2216720\n",
      "merged record count : 2058579\n",
      "\n",
      "accidents column count : 32\n",
      "casualties column count : 15\n",
      "merged column count : 46\n"
     ]
    }
   ],
   "source": [
    "dfAccidents = dfAccidents.na.drop()\n",
    "dfCasualties = dfCasualties.na.drop()\n",
    "\n",
    "dfMerged = dfCasualties.join(dfAccidents,['Accident_Index'], how = 'full').orderBy('Accident_Index').na.drop()\n",
    "\n",
    "\n",
    "print(dfMerged.columns)\n",
    "print(\"\\naccidents record count :\", dfAccidents.count())\n",
    "print(\"casualties record count :\", dfCasualties.count())\n",
    "print(\"merged record count :\", dfMerged.count())\n",
    "\n",
    "print(\"\\naccidents column count :\", len(dfAccidents.columns))\n",
    "print(\"casualties column count :\", len(dfCasualties.columns))\n",
    "print(\"merged column count :\", len(dfMerged.columns))\n"
   ]
  },
  {
   "cell_type": "code",
   "execution_count": 11,
   "metadata": {},
   "outputs": [
    {
     "name": "stdout",
     "output_type": "stream",
     "text": [
      "+--------------+-----------------+------------------+--------------+---------------+---------------+--------------------+-----------------+-------------------+-------------------+-------------+----------------------+----------------------------------+-------------+-----------------------+---------------------+----------------------+--------------------+---------+------------+-----------------+------------------+--------------------+----------+-----------+-----+--------------------------+-------------------------+--------------+---------------+---------+-----------+---------------+----------------+--------------+---------------+---------------------------------+---------------------------------------+----------------+------------------+-----------------------+--------------------------+-------------------+-------------------+-------------------------------------------+-------------------------+\n",
      "|Accident_Index|Vehicle_Reference|Casualty_Reference|Casualty_Class|Sex_of_Casualty|Age_of_Casualty|Age_Band_of_Casualty|Casualty_Severity|Pedestrian_Location|Pedestrian_Movement|Car_Passenger|Bus_or_Coach_Passenger|Pedestrian_Road_Maintenance_Worker|Casualty_Type|Casualty_Home_Area_Type|Location_Easting_OSGR|Location_Northing_OSGR|           Longitude| Latitude|Police_Force|Accident_Severity|Number_of_Vehicles|Number_of_Casualties|      Date|Day_of_Week| Time|Local_Authority_(District)|Local_Authority_(Highway)|1st_Road_Class|1st_Road_Number|Road_Type|Speed_limit|Junction_Detail|Junction_Control|2nd_Road_Class|2nd_Road_Number|Pedestrian_Crossing-Human_Control|Pedestrian_Crossing-Physical_Facilities|Light_Conditions|Weather_Conditions|Road_Surface_Conditions|Special_Conditions_at_Site|Carriageway_Hazards|Urban_or_Rural_Area|Did_Police_Officer_Attend_Scene_of_Accident|LSOA_of_Accident_Location|\n",
      "+--------------+-----------------+------------------+--------------+---------------+---------------+--------------------+-----------------+-------------------+-------------------+-------------+----------------------+----------------------------------+-------------+-----------------------+---------------------+----------------------+--------------------+---------+------------+-----------------+------------------+--------------------+----------+-----------+-----+--------------------------+-------------------------+--------------+---------------+---------+-----------+---------------+----------------+--------------+---------------+---------------------------------+---------------------------------------+----------------+------------------+-----------------------+--------------------------+-------------------+-------------------+-------------------------------------------+-------------------------+\n",
      "| 200501BS00001|                1|                 1|             3|              1|             37|                   7|                2|                  1|                  1|            0|                     0|                                -1|            0|                      1|             525680.0|              178240.0|            -0.19117|51.489096|           1|                2|                 1|                   1|04/01/2005|          3|17:42|                        12|                E09000020|             3|           3218|        6|         30|              0|              -1|            -1|              0|                                0|                                      1|               1|                 2|                      2|                         0|                  0|                  1|                                          1|                E01002849|\n",
      "| 200501BS00002|                1|                 1|             2|              1|             37|                   7|                3|                  0|                  0|            0|                     4|                                -1|           11|                      1|             524170.0|              181650.0|-0.21170799999999998|51.520075|           1|                3|                 1|                   1|05/01/2005|          4|17:36|                        12|                E09000020|             4|            450|        3|         30|              6|               2|             5|              0|                                0|                                      5|               4|                 1|                      1|                         0|                  0|                  1|                                          1|                E01002909|\n",
      "| 200501BS00003|                2|                 1|             1|              1|             62|                   9|                3|                  0|                  0|            0|                     0|                                -1|            9|                      1|             524520.0|              182240.0|           -0.206458|51.525301|           1|                3|                 2|                   1|06/01/2005|          5|00:15|                        12|                E09000020|             5|              0|        6|         30|              0|              -1|            -1|              0|                                0|                                      0|               4|                 1|                      1|                         0|                  0|                  1|                                          1|                E01002857|\n",
      "| 200501BS00004|                1|                 1|             3|              1|             30|                   6|                3|                  5|                  2|            0|                     0|                                -1|            0|                      1|             526900.0|              177530.0|           -0.173862|51.482442|           1|                3|                 1|                   1|07/01/2005|          6|10:35|                        12|                E09000020|             3|           3220|        6|         30|              0|              -1|            -1|              0|                                0|                                      0|               1|                 1|                      1|                         0|                  0|                  1|                                          1|                E01002840|\n",
      "| 200501BS00005|                1|                 1|             1|              1|             49|                   8|                3|                  0|                  0|            0|                     0|                                -1|            3|                     -1|             528060.0|              179040.0|           -0.156618|51.495752|           1|                3|                 1|                   1|10/01/2005|          2|21:13|                        12|                E09000020|             6|              0|        6|         30|              0|              -1|            -1|              0|                                0|                                      0|               7|                 1|                      2|                         0|                  0|                  1|                                          1|                E01002863|\n",
      "| 200501BS00006|                2|                 1|             1|              2|             30|                   6|                3|                  0|                  0|            0|                     0|                                -1|            3|                      1|             524770.0|              181160.0|           -0.203238| 51.51554|           1|                3|                 2|                   1|11/01/2005|          3|12:40|                        12|                E09000020|             6|              0|        6|         30|              0|              -1|            -1|              0|                                0|                                      0|               1|                 2|                      2|                         6|                  0|                  1|                                          1|                E01002832|\n",
      "| 200501BS00007|                1|                 1|             1|              1|             31|                   6|                3|                  0|                  0|            0|                     0|                                -1|            3|                     -1|             524220.0|              180830.0|           -0.211277|51.512695|           1|                3|                 2|                   1|13/01/2005|          5|20:40|                        12|                E09000020|             5|              0|        6|         30|              3|               4|             6|              0|                                0|                                      0|               4|                 1|                      1|                         0|                  0|                  1|                                          1|                E01002875|\n",
      "| 200501BS00009|                1|                 1|             3|              2|             13|                   3|                3|                  6|                  9|            0|                     0|                                -1|            0|                      1|             525890.0|              179710.0|           -0.187623| 51.50226|           1|                3|                 1|                   2|14/01/2005|          6|17:35|                        12|                E09000020|             3|            315|        3|         30|              0|              -1|            -1|              0|                                0|                                      0|               1|                 1|                      1|                         0|                  0|                  1|                                          1|                E01002889|\n",
      "| 200501BS00009|                1|                 2|             3|              2|             13|                   3|                3|                  6|                  9|            0|                     0|                                -1|            0|                      1|             525890.0|              179710.0|           -0.187623| 51.50226|           1|                3|                 1|                   2|14/01/2005|          6|17:35|                        12|                E09000020|             3|            315|        3|         30|              0|              -1|            -1|              0|                                0|                                      0|               1|                 1|                      1|                         0|                  0|                  1|                                          1|                E01002889|\n",
      "| 200501BS00010|                1|                 1|             1|              1|             35|                   6|                3|                  0|                  0|            0|                     0|                                -1|            9|                      1|             527350.0|              177650.0|-0.16734200000000002| 51.48342|           1|                3|                 2|                   2|15/01/2005|          7|22:43|                        12|                E09000020|             3|           3212|        6|         30|              6|               2|             4|            304|                                0|                                      5|               4|                 1|                      1|                         0|                  0|                  1|                                          1|                E01002900|\n",
      "| 200501BS00010|                2|                 2|             1|              2|             48|                   8|                3|                  0|                  0|            0|                     0|                                -1|            9|                      1|             527350.0|              177650.0|-0.16734200000000002| 51.48342|           1|                3|                 2|                   2|15/01/2005|          7|22:43|                        12|                E09000020|             3|           3212|        6|         30|              6|               2|             4|            304|                                0|                                      5|               4|                 1|                      1|                         0|                  0|                  1|                                          1|                E01002900|\n",
      "| 200501BS00011|                1|                 1|             2|              2|             26|                   6|                3|                  0|                  0|            0|                     4|                                -1|           11|                      1|             524550.0|              180810.0|           -0.206531|51.512443|           1|                3|                 2|                   5|15/01/2005|          7|16:00|                        12|                E09000020|             4|            450|        6|         30|              3|               4|             5|              0|                                0|                                      8|               1|                 1|                      1|                         0|                  0|                  1|                                          1|                E01002875|\n",
      "| 200501BS00011|                1|                 4|             2|              2|             38|                   7|                3|                  0|                  0|            0|                     4|                                -1|           11|                      1|             524550.0|              180810.0|           -0.206531|51.512443|           1|                3|                 2|                   5|15/01/2005|          7|16:00|                        12|                E09000020|             4|            450|        6|         30|              3|               4|             5|              0|                                0|                                      8|               1|                 1|                      1|                         0|                  0|                  1|                                          1|                E01002875|\n",
      "| 200501BS00011|                1|                 2|             2|              2|              9|                   2|                3|                  0|                  0|            0|                     4|                                -1|           11|                      1|             524550.0|              180810.0|           -0.206531|51.512443|           1|                3|                 2|                   5|15/01/2005|          7|16:00|                        12|                E09000020|             4|            450|        6|         30|              3|               4|             5|              0|                                0|                                      8|               1|                 1|                      1|                         0|                  0|                  1|                                          1|                E01002875|\n",
      "| 200501BS00011|                1|                 3|             2|              2|             40|                   7|                3|                  0|                  0|            0|                     4|                                -1|           11|                      1|             524550.0|              180810.0|           -0.206531|51.512443|           1|                3|                 2|                   5|15/01/2005|          7|16:00|                        12|                E09000020|             4|            450|        6|         30|              3|               4|             5|              0|                                0|                                      8|               1|                 1|                      1|                         0|                  0|                  1|                                          1|                E01002875|\n",
      "| 200501BS00011|                1|                 5|             2|              2|             28|                   6|                3|                  0|                  0|            0|                     4|                                -1|           11|                     -1|             524550.0|              180810.0|           -0.206531|51.512443|           1|                3|                 2|                   5|15/01/2005|          7|16:00|                        12|                E09000020|             4|            450|        6|         30|              3|               4|             5|              0|                                0|                                      8|               1|                 1|                      1|                         0|                  0|                  1|                                          1|                E01002875|\n",
      "| 200501BS00012|                1|                 1|             3|              2|             23|                   5|                3|                  1|                  4|            0|                     0|                                -1|            0|                      1|             526240.0|              178900.0|           -0.182872|51.494902|           1|                3|                 1|                   1|16/01/2005|          1|00:42|                        12|                E09000020|             3|              4|        6|         30|              6|               2|             4|            325|                                0|                                      5|               4|                 1|                      1|                         0|                  0|                  1|                                          1|                E01002835|\n",
      "| 200501BS00014|                2|                 1|             1|              2|             20|                   4|                3|                  0|                  0|            0|                     0|                                -1|            3|                     -1|             526170.0|              177690.0|-0.18431199999999998|51.484044|           1|                3|                 2|                   1|25/01/2005|          3|20:48|                        12|                E09000020|             3|           3220|        6|         30|              6|               2|             3|            308|                                0|                                      5|               4|                 1|                      2|                         0|                  0|                  1|                                          1|                E01002912|\n",
      "| 200501BS00015|                1|                 1|             3|              2|             75|                  10|                3|                  1|                  1|            0|                     0|                                -1|            0|                     -1|             525590.0|              178520.0|           -0.192366|51.491632|           1|                3|                 1|                   1|11/01/2005|          3|12:55|                        12|                E09000020|             6|              0|        2|         30|              3|               4|             3|           3220|                                0|                                      1|               1|                 2|                      2|                         0|                  0|                  1|                                          1|                E01002849|\n",
      "| 200501BS00016|                1|                 1|             1|              1|             34|                   6|                3|                  0|                  0|            0|                     0|                                -1|            9|                      1|             527990.0|              178690.0|           -0.157753|51.492622|           1|                3|                 2|                   1|18/01/2005|          3|05:01|                        12|                E09000020|             3|           3217|        2|         30|              3|               4|             3|           3216|                                0|                                      0|               4|                 2|                      2|                         0|                  0|                  1|                                          1|                E01002902|\n",
      "+--------------+-----------------+------------------+--------------+---------------+---------------+--------------------+-----------------+-------------------+-------------------+-------------+----------------------+----------------------------------+-------------+-----------------------+---------------------+----------------------+--------------------+---------+------------+-----------------+------------------+--------------------+----------+-----------+-----+--------------------------+-------------------------+--------------+---------------+---------+-----------+---------------+----------------+--------------+---------------+---------------------------------+---------------------------------------+----------------+------------------+-----------------------+--------------------------+-------------------+-------------------+-------------------------------------------+-------------------------+\n",
      "only showing top 20 rows\n",
      "\n"
     ]
    }
   ],
   "source": [
    "dfMerged.show()"
   ]
  },
  {
   "cell_type": "code",
   "execution_count": 12,
   "metadata": {},
   "outputs": [
    {
     "name": "stdout",
     "output_type": "stream",
     "text": [
      "+-----------+\n",
      "|Speed_limit|\n",
      "+-----------+\n",
      "|         10|\n",
      "|         10|\n",
      "|         10|\n",
      "|         10|\n",
      "|         10|\n",
      "|         15|\n",
      "|         15|\n",
      "|         15|\n",
      "|         20|\n",
      "|         20|\n",
      "|         20|\n",
      "|         20|\n",
      "|         20|\n",
      "|         20|\n",
      "|         20|\n",
      "|         20|\n",
      "|         20|\n",
      "|         20|\n",
      "|         20|\n",
      "|         20|\n",
      "+-----------+\n",
      "only showing top 20 rows\n",
      "\n"
     ]
    }
   ],
   "source": [
    "dfSorted = dfMerged.orderBy(col('Speed_limit').asc())\n",
    "dfSorted.select('Speed_limit').show()"
   ]
  },
  {
   "cell_type": "code",
   "execution_count": 13,
   "metadata": {},
   "outputs": [
    {
     "name": "stdout",
     "output_type": "stream",
     "text": [
      "+-----------+\n",
      "|Speed_limit|\n",
      "+-----------+\n",
      "|         70|\n",
      "|         70|\n",
      "|         70|\n",
      "|         70|\n",
      "|         70|\n",
      "|         70|\n",
      "|         70|\n",
      "|         70|\n",
      "|         70|\n",
      "|         70|\n",
      "|         70|\n",
      "|         70|\n",
      "|         70|\n",
      "|         70|\n",
      "|         70|\n",
      "|         70|\n",
      "|         70|\n",
      "|         70|\n",
      "|         70|\n",
      "|         70|\n",
      "+-----------+\n",
      "only showing top 20 rows\n",
      "\n"
     ]
    }
   ],
   "source": [
    "dfSorted = dfMerged.orderBy(col('Speed_limit').desc())\n",
    "dfSorted.select('Speed_limit').show()"
   ]
  },
  {
   "cell_type": "code",
   "execution_count": 14,
   "metadata": {},
   "outputs": [
    {
     "name": "stdout",
     "output_type": "stream",
     "text": [
      "+-----------+\n",
      "|Speed_limit|\n",
      "+-----------+\n",
      "|         70|\n",
      "|         70|\n",
      "|         70|\n",
      "|         70|\n",
      "|         70|\n",
      "|         70|\n",
      "|         70|\n",
      "|         70|\n",
      "|         70|\n",
      "|         70|\n",
      "|         70|\n",
      "|         70|\n",
      "|         70|\n",
      "|         70|\n",
      "|         70|\n",
      "|         70|\n",
      "|         70|\n",
      "|         70|\n",
      "|         70|\n",
      "|         70|\n",
      "+-----------+\n",
      "only showing top 20 rows\n",
      "\n"
     ]
    }
   ],
   "source": [
    "dfAccidents.createOrReplaceTempView('dfAccidents')\n",
    "results = spark.sql(\"SELECT Speed_limit FROM dfAccidents WHERE Speed_limit >= 70\")\n",
    "results.show()"
   ]
  },
  {
   "cell_type": "code",
   "execution_count": 15,
   "metadata": {},
   "outputs": [
    {
     "name": "stdout",
     "output_type": "stream",
     "text": [
      "+-----------+----------------+------------------+--------+\n",
      "|Speed_limit|Light_Conditions|Weather_Conditions|reckless|\n",
      "+-----------+----------------+------------------+--------+\n",
      "|         70|               1|                 1|   false|\n",
      "|         70|               4|                 1|   false|\n",
      "|         70|               1|                 1|   false|\n",
      "|         70|               1|                 2|   false|\n",
      "|         70|               1|                 1|   false|\n",
      "|         70|               1|                 2|   false|\n",
      "|         70|               1|                 1|   false|\n",
      "|         70|               1|                 1|   false|\n",
      "|         70|               1|                 2|   false|\n",
      "|         70|               1|                 1|   false|\n",
      "|         70|               1|                 1|   false|\n",
      "|         70|               4|                 1|   false|\n",
      "|         70|               1|                 1|   false|\n",
      "|         70|               1|                 1|   false|\n",
      "|         70|               1|                 1|   false|\n",
      "|         70|               4|                 1|   false|\n",
      "|         70|               1|                 1|   false|\n",
      "|         70|               1|                 4|   false|\n",
      "|         70|               1|                 1|   false|\n",
      "|         70|               4|                 1|   false|\n",
      "|         70|               1|                 1|   false|\n",
      "|         70|               1|                 1|   false|\n",
      "|         70|               4|                 2|    true|\n",
      "|         70|               1|                 1|   false|\n",
      "|         70|               1|                 1|   false|\n",
      "+-----------+----------------+------------------+--------+\n",
      "only showing top 25 rows\n",
      "\n"
     ]
    }
   ],
   "source": [
    "dfAccidents.withColumn('reckless',\n",
    "                       ((dfAccidents['Speed_limit'] >= 70) & \n",
    "                       (dfAccidents['Light_Conditions'] != 1) & \n",
    "                       (dfAccidents['Weather_Conditions'] != 1))).select('Speed_limit', 'Light_Conditions', 'Weather_Conditions', 'reckless').orderBy(col('Speed_limit').desc()).show(25)"
   ]
  },
  {
   "cell_type": "code",
   "execution_count": 16,
   "metadata": {},
   "outputs": [
    {
     "name": "stdout",
     "output_type": "stream",
     "text": [
      "+-------+--------------------+\n",
      "|summary|Number_of_Casualties|\n",
      "+-------+--------------------+\n",
      "|  count|             1640597|\n",
      "|   mean|    1.35116667895894|\n",
      "| stddev|  0.8260983324873732|\n",
      "|    min|                   1|\n",
      "|    max|                  93|\n",
      "+-------+--------------------+\n",
      "\n"
     ]
    }
   ],
   "source": [
    "dfSubset.select(\"Number_of_Casualties\").describe().show()"
   ]
  },
  {
   "cell_type": "code",
   "execution_count": 17,
   "metadata": {},
   "outputs": [
    {
     "name": "stdout",
     "output_type": "stream",
     "text": [
      "+-----------+---------+----------------+------------------+-----------------------+--------------------+\n",
      "|Speed_limit|Road_type|Light_Conditions|Weather_Conditions|Road_Surface_Conditions|Number_of_Casualties|\n",
      "+-----------+---------+----------------+------------------+-----------------------+--------------------+\n",
      "|         30|        6|               1|                 2|                      2|                   1|\n",
      "|         30|        3|               4|                 1|                      1|                   1|\n",
      "|         30|        6|               4|                 1|                      1|                   1|\n",
      "|         30|        6|               1|                 1|                      1|                   1|\n",
      "|         30|        6|               7|                 1|                      2|                   1|\n",
      "|         30|        6|               1|                 2|                      2|                   1|\n",
      "|         30|        6|               4|                 1|                      1|                   1|\n",
      "|         30|        3|               1|                 1|                      1|                   2|\n",
      "|         30|        6|               4|                 1|                      1|                   2|\n",
      "|         30|        6|               1|                 1|                      1|                   5|\n",
      "|         30|        6|               4|                 1|                      1|                   1|\n",
      "|         30|        6|               4|                 1|                      2|                   1|\n",
      "|         30|        2|               1|                 2|                      2|                   1|\n",
      "|         30|        2|               4|                 2|                      2|                   1|\n",
      "|         30|        3|               1|                 1|                      1|                   2|\n",
      "|         30|        6|               1|                 1|                      1|                   1|\n",
      "|         30|        6|               4|                 1|                      1|                   1|\n",
      "|         30|        6|               1|                 1|                      1|                   1|\n",
      "|         30|        6|               4|                 1|                      1|                   1|\n",
      "|         30|        6|               4|                 1|                      1|                   1|\n",
      "+-----------+---------+----------------+------------------+-----------------------+--------------------+\n",
      "only showing top 20 rows\n",
      "\n"
     ]
    }
   ],
   "source": [
    "dfSubset.show()"
   ]
  },
  {
   "cell_type": "code",
   "execution_count": 18,
   "metadata": {},
   "outputs": [
    {
     "name": "stdout",
     "output_type": "stream",
     "text": [
      "+-------+--------------------+\n",
      "|summary|Number_of_Casualties|\n",
      "+-------+--------------------+\n",
      "|  count|             1600219|\n",
      "|   mean|  1.2651274606788196|\n",
      "| stddev|  0.5494648968159794|\n",
      "|    min|                   1|\n",
      "|    max|                   4|\n",
      "+-------+--------------------+\n",
      "\n"
     ]
    }
   ],
   "source": [
    "from pyspark.sql import Window\n",
    "from pyspark.sql.functions import percent_rank, when\n",
    "\n",
    "subsetWindow = Window.partitionBy(dfSubset.Speed_limit).orderBy(dfSubset.Number_of_Casualties)\n",
    "percentiles_df = dfSubset.withColumn(\"percentile\", percent_rank().over(subsetWindow))\n",
    "dfOutliers = percentiles_df.select(percentiles_df.Speed_limit,\n",
    "                               when(percentiles_df.percentile <= 0.95,percentiles_df.Number_of_Casualties) \\\n",
    "                               .alias(\"Number_of_Casualties\"))\n",
    "\n",
    "dfOutliers = dfOutliers.na.drop()\n",
    "dfOutliers.select(\"Number_of_Casualties\").describe().show()"
   ]
  },
  {
   "cell_type": "code",
   "execution_count": 19,
   "metadata": {},
   "outputs": [
    {
     "name": "stdout",
     "output_type": "stream",
     "text": [
      "+-----------+---------+----------------+------------------+-----------------------+--------------------+\n",
      "|Speed_limit|Road_type|Light_Conditions|Weather_Conditions|Road_Surface_Conditions|Number_of_Casualties|\n",
      "+-----------+---------+----------------+------------------+-----------------------+--------------------+\n",
      "|         30|        6|               1|                 2|                      2|                   1|\n",
      "|         30|        3|               4|                 1|                      1|                   1|\n",
      "|         30|        6|               4|                 1|                      1|                   1|\n",
      "|         30|        6|               1|                 1|                      1|                   1|\n",
      "|         30|        6|               7|                 1|                      2|                   1|\n",
      "|         30|        6|               1|                 2|                      2|                   1|\n",
      "|         30|        6|               4|                 1|                      1|                   1|\n",
      "|         30|        3|               1|                 1|                      1|                   2|\n",
      "|         30|        6|               4|                 1|                      1|                   2|\n",
      "|         30|        6|               1|                 1|                      1|                   5|\n",
      "|         30|        6|               4|                 1|                      1|                   1|\n",
      "|         30|        6|               4|                 1|                      2|                   1|\n",
      "|         30|        2|               1|                 2|                      2|                   1|\n",
      "|         30|        2|               4|                 2|                      2|                   1|\n",
      "|         30|        3|               1|                 1|                      1|                   2|\n",
      "|         30|        6|               1|                 1|                      1|                   1|\n",
      "|         30|        6|               4|                 1|                      1|                   1|\n",
      "|         30|        6|               1|                 1|                      1|                   1|\n",
      "|         30|        6|               4|                 1|                      1|                   1|\n",
      "|         30|        6|               4|                 1|                      1|                   1|\n",
      "+-----------+---------+----------------+------------------+-----------------------+--------------------+\n",
      "only showing top 20 rows\n",
      "\n"
     ]
    }
   ],
   "source": [
    "dfSubset.show()"
   ]
  },
  {
   "cell_type": "code",
   "execution_count": 20,
   "metadata": {},
   "outputs": [],
   "source": [
    "from pyspark.sql.functions import log\n",
    "\n",
    "dfTransformed = dfSubset.withColumn(\"log_Number_of_Casualties\", log(col(\"Number_of_Casualties\")))\n",
    "dfTransformed = dfTransformed.drop(\"Number_of_Casualties\")\n"
   ]
  },
  {
   "cell_type": "code",
   "execution_count": 21,
   "metadata": {},
   "outputs": [],
   "source": [
    "dfSubset.write.format('csv').option('header',True).mode('overwrite').option('sep',',').save('before.csv')\n",
    "dfTransformed.write.format('csv').option('header',True).mode('overwrite').option('sep',',').save('after.csv')"
   ]
  },
  {
   "cell_type": "code",
   "execution_count": 22,
   "metadata": {},
   "outputs": [
    {
     "name": "stdout",
     "output_type": "stream",
     "text": [
      "+-------+------------------------+\n",
      "|summary|log_Number_of_Casualties|\n",
      "+-------+------------------------+\n",
      "|  count|                 1640597|\n",
      "|   mean|     0.20215798771110421|\n",
      "| stddev|      0.3927618282073853|\n",
      "|    min|                     0.0|\n",
      "|    max|       4.532599493153256|\n",
      "+-------+------------------------+\n",
      "\n"
     ]
    }
   ],
   "source": [
    "dfTransformed.select(\"log_Number_of_Casualties\").describe().show()"
   ]
  },
  {
   "cell_type": "code",
   "execution_count": 23,
   "metadata": {},
   "outputs": [],
   "source": [
    "del dfTransformed, dfOutliers, subsetWindow, percentiles_df, dfAccidents, dfVehicles, dfCasualties, dfSorted"
   ]
  },
  {
   "cell_type": "code",
   "execution_count": 24,
   "metadata": {},
   "outputs": [],
   "source": [
    "from pyspark.ml.linalg import Vectors\n",
    "from pyspark.ml.feature import VectorAssembler\n",
    "\n",
    "assembler = VectorAssembler(\n",
    "    inputCols=[\"Speed_limit\", \"Road_type\", \"Light_Conditions\", \"Weather_Conditions\", \"Road_Surface_Conditions\"],\n",
    "    outputCol=\"features\")\n",
    "\n",
    "output = assembler.transform(dfSubset)\n",
    "final_data = output.select(\"features\", \"Number_of_Casualties\")\n"
   ]
  },
  {
   "cell_type": "code",
   "execution_count": 25,
   "metadata": {},
   "outputs": [],
   "source": [
    "train_data, test_data = final_data.randomSplit([0.5,0.5])"
   ]
  },
  {
   "cell_type": "code",
   "execution_count": 26,
   "metadata": {},
   "outputs": [
    {
     "name": "stdout",
     "output_type": "stream",
     "text": [
      "+-------+--------------------+\n",
      "|summary|Number_of_Casualties|\n",
      "+-------+--------------------+\n",
      "|  count|              822042|\n",
      "|   mean|  1.3514005367122361|\n",
      "| stddev|  0.8269504664760282|\n",
      "|    min|                   1|\n",
      "|    max|                  93|\n",
      "+-------+--------------------+\n",
      "\n",
      "+-------+--------------------+\n",
      "|summary|Number_of_Casualties|\n",
      "+-------+--------------------+\n",
      "|  count|              818555|\n",
      "|   mean|   1.350931824984271|\n",
      "| stddev|  0.8252421213539887|\n",
      "|    min|                   1|\n",
      "|    max|                  87|\n",
      "+-------+--------------------+\n",
      "\n"
     ]
    }
   ],
   "source": [
    "train_data.describe().show()\n",
    "test_data.describe().show()\n"
   ]
  },
  {
   "cell_type": "code",
   "execution_count": 27,
   "metadata": {},
   "outputs": [],
   "source": [
    "from pyspark.ml.classification import DecisionTreeClassifier\n",
    "from pyspark.ml import Pipeline\n",
    "from pyspark.ml.evaluation import MulticlassClassificationEvaluator\n",
    "\n",
    "decisionTree = DecisionTreeClassifier(labelCol='Number_of_Casualties',featuresCol='features')\n",
    "decisionTree = decisionTree.setMaxBins(10)\n",
    "decisionTree = decisionTree.setMaxDepth(5)"
   ]
  },
  {
   "cell_type": "code",
   "execution_count": 28,
   "metadata": {},
   "outputs": [],
   "source": [
    "model = decisionTree.fit(train_data)\n",
    "predictions = model.transform(test_data)\n"
   ]
  },
  {
   "cell_type": "code",
   "execution_count": 36,
   "metadata": {},
   "outputs": [
    {
     "name": "stdout",
     "output_type": "stream",
     "text": [
      "+--------------------+--------------------+--------------------+--------------------+----------+\n",
      "|            features|Number_of_Casualties|       rawPrediction|         probability|prediction|\n",
      "+--------------------+--------------------+--------------------+--------------------+----------+\n",
      "|[10.0,2.0,1.0,1.0...|                   1|[0.0,572.0,43.0,5...|[0.0,0.9181380417...|       1.0|\n",
      "|[10.0,2.0,1.0,1.0...|                   1|[0.0,572.0,43.0,5...|[0.0,0.9181380417...|       1.0|\n",
      "|[10.0,2.0,1.0,1.0...|                   1|[0.0,572.0,43.0,5...|[0.0,0.9181380417...|       1.0|\n",
      "|[10.0,6.0,1.0,1.0...|                   1|[0.0,4351.0,425.0...|[0.0,0.8843495934...|       1.0|\n",
      "|[10.0,6.0,1.0,1.0...|                   1|[0.0,4351.0,425.0...|[0.0,0.8843495934...|       1.0|\n",
      "|[15.0,2.0,1.0,1.0...|                   1|[0.0,572.0,43.0,5...|[0.0,0.9181380417...|       1.0|\n",
      "|[15.0,6.0,1.0,1.0...|                   1|[0.0,4351.0,425.0...|[0.0,0.8843495934...|       1.0|\n",
      "|[15.0,6.0,1.0,1.0...|                   2|[0.0,4351.0,425.0...|[0.0,0.8843495934...|       1.0|\n",
      "|[20.0,1.0,1.0,1.0...|                   1|[0.0,572.0,43.0,5...|[0.0,0.9181380417...|       1.0|\n",
      "|[20.0,1.0,1.0,1.0...|                   1|[0.0,572.0,43.0,5...|[0.0,0.9181380417...|       1.0|\n",
      "|[20.0,1.0,1.0,1.0...|                   1|[0.0,572.0,43.0,5...|[0.0,0.9181380417...|       1.0|\n",
      "|[20.0,1.0,1.0,1.0...|                   1|[0.0,572.0,43.0,5...|[0.0,0.9181380417...|       1.0|\n",
      "|[20.0,1.0,1.0,1.0...|                   1|[0.0,572.0,43.0,5...|[0.0,0.9181380417...|       1.0|\n",
      "|[20.0,1.0,1.0,1.0...|                   1|[0.0,572.0,43.0,5...|[0.0,0.9181380417...|       1.0|\n",
      "|[20.0,1.0,1.0,1.0...|                   1|[0.0,572.0,43.0,5...|[0.0,0.9181380417...|       1.0|\n",
      "|[20.0,1.0,1.0,1.0...|                   1|[0.0,572.0,43.0,5...|[0.0,0.9181380417...|       1.0|\n",
      "|[20.0,1.0,1.0,1.0...|                   1|[0.0,572.0,43.0,5...|[0.0,0.9181380417...|       1.0|\n",
      "|[20.0,1.0,1.0,1.0...|                   1|[0.0,572.0,43.0,5...|[0.0,0.9181380417...|       1.0|\n",
      "|[20.0,1.0,1.0,1.0...|                   1|[0.0,572.0,43.0,5...|[0.0,0.9181380417...|       1.0|\n",
      "|[20.0,1.0,1.0,1.0...|                   1|[0.0,572.0,43.0,5...|[0.0,0.9181380417...|       1.0|\n",
      "+--------------------+--------------------+--------------------+--------------------+----------+\n",
      "only showing top 20 rows\n",
      "\n"
     ]
    }
   ],
   "source": [
    "predictions.show()"
   ]
  },
  {
   "cell_type": "code",
   "execution_count": 29,
   "metadata": {},
   "outputs": [
    {
     "name": "stdout",
     "output_type": "stream",
     "text": [
      "Decision tree accuracy: 76.66%\n"
     ]
    }
   ],
   "source": [
    "evaluator = MulticlassClassificationEvaluator(labelCol=\"Number_of_Casualties\", predictionCol=\"prediction\", metricName=\"accuracy\")\n",
    "accuracy = evaluator.evaluate(predictions)\n",
    "\n",
    "print(\"Decision tree accuracy: {0:2.2f}%\".format(accuracy*100))\n"
   ]
  },
  {
   "cell_type": "code",
   "execution_count": 33,
   "metadata": {},
   "outputs": [
    {
     "name": "stdout",
     "output_type": "stream",
     "text": [
      "Decision tree f1 score:  0.6653775326578529\n"
     ]
    }
   ],
   "source": [
    "evaluator = MulticlassClassificationEvaluator(labelCol=\"Number_of_Casualties\", predictionCol=\"prediction\", metricName=\"f1\")\n",
    "f1Score = evaluator.evaluate(predictions)\n",
    "\n",
    "print(\"Decision tree f1 score: \", f1Score)\n",
    "\n"
   ]
  },
  {
   "cell_type": "code",
   "execution_count": 34,
   "metadata": {},
   "outputs": [
    {
     "name": "stdout",
     "output_type": "stream",
     "text": [
      "Decision tree precision:  0.5877424993365491\n"
     ]
    }
   ],
   "source": [
    "evaluator = MulticlassClassificationEvaluator(labelCol=\"Number_of_Casualties\", predictionCol=\"prediction\", metricName=\"weightedPrecision\")\n",
    "precision = evaluator.evaluate(predictions)\n",
    "\n",
    "print(\"Decision tree precision: \", precision)\n",
    "\n"
   ]
  },
  {
   "cell_type": "code",
   "execution_count": 35,
   "metadata": {},
   "outputs": [
    {
     "name": "stdout",
     "output_type": "stream",
     "text": [
      "Decision tree recall:  0.7666436586423637\n"
     ]
    }
   ],
   "source": [
    "evaluator = MulticlassClassificationEvaluator(labelCol=\"Number_of_Casualties\", predictionCol=\"prediction\", metricName=\"weightedRecall\")\n",
    "recall = evaluator.evaluate(predictions)\n",
    "\n",
    "print(\"Decision tree recall: \", recall)\n"
   ]
  },
  {
   "cell_type": "code",
   "execution_count": 39,
   "metadata": {},
   "outputs": [
    {
     "data": {
      "text/plain": [
       "SparseVector(5, {0: 0.8472, 1: 0.0759, 2: 0.0121, 3: 0.0118, 4: 0.0531})"
      ]
     },
     "execution_count": 39,
     "metadata": {},
     "output_type": "execute_result"
    }
   ],
   "source": [
    "model.featureImportances\n"
   ]
  },
  {
   "cell_type": "code",
   "execution_count": null,
   "metadata": {},
   "outputs": [],
   "source": []
  },
  {
   "cell_type": "code",
   "execution_count": null,
   "metadata": {},
   "outputs": [],
   "source": []
  }
 ],
 "metadata": {
  "kernelspec": {
   "display_name": "Python 3",
   "language": "python",
   "name": "python3"
  },
  "language_info": {
   "codemirror_mode": {
    "name": "ipython",
    "version": 3
   },
   "file_extension": ".py",
   "mimetype": "text/x-python",
   "name": "python",
   "nbconvert_exporter": "python",
   "pygments_lexer": "ipython3",
   "version": "3.5.2"
  }
 },
 "nbformat": 4,
 "nbformat_minor": 2
}
